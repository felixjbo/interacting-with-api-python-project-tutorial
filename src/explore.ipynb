{
    "cells": [
        {
            "cell_type": "markdown",
            "metadata": {},
            "source": [
                "# Explore here"
            ]
        },
        {
            "cell_type": "code",
            "execution_count": 1,
            "metadata": {},
            "outputs": [],
            "source": [
                "import requests\n",
                "import os\n",
                "import pandas as pd\n",
                "from dotenv import load_dotenv\n",
                "import spotipy\n",
                "from spotipy.oauth2 import SpotifyClientCredentials\n",
                "import seaborn as sns\n",
                "import matplotlib.pyplot as plt"
            ]
        },
        {
            "cell_type": "code",
            "execution_count": 32,
            "metadata": {},
            "outputs": [],
            "source": [
                "# load the .env file variables\n",
                "load_dotenv()\n",
                "SPOTIPY_CLIENT_ID = os.getenv('SPOTIPY_CLIENT_ID')\n",
                "SPOTIPY_CLIENT_SECRET = os.getenv('SPOTIPY_CLIENT_SECRET')\n",
                "AUTH_URL = 'https://accounts.spotify.com/api/token'"
            ]
        },
        {
            "cell_type": "code",
            "execution_count": 38,
            "metadata": {},
            "outputs": [],
            "source": [
                "#Load Tracks Information\n",
                "\n",
                "soja_uri = 'spotify:artist:2aaLAng2L2aWD2FClzwiep'\n",
                "spotify = spotipy.Spotify(client_credentials_manager=SpotifyClientCredentials())\n",
                "\n",
                "results = spotify.artist_top_tracks(soja_uri)\n",
                "\n",
                "top_tracks = results['tracks'][:10]"
            ]
        },
        {
            "cell_type": "code",
            "execution_count": 39,
            "metadata": {},
            "outputs": [],
            "source": [
                "#Convert to DataFrame\n",
                "\n",
                "names = []\n",
                "popularity = []\n",
                "duration_ms = []\n",
                "\n",
                "for track in top_tracks:\n",
                "    names.append(track['name'])\n",
                "    popularity.append(track['popularity'])\n",
                "    duration_ms.append(track['duration_ms'])\n",
                "\n",
                "top_tracks_df = pd.DataFrame({\n",
                "    'name': names,\n",
                "    'popularity': popularity,\n",
                "    'duration': duration_ms\n",
                "    })"
            ]
        },
        {
            "cell_type": "code",
            "execution_count": 40,
            "metadata": {},
            "outputs": [],
            "source": [
                "#Convert to Numerical and Change miliseconds to minutes\n",
                "\n",
                "top_tracks_df['popularity'] = top_tracks_df['popularity'].astype(float)\n",
                "top_tracks_df['duration'] = top_tracks_df['duration'].astype(int)\n",
                "\n",
                "top_tracks_df['duration'] = top_tracks_df['duration'] / 60000"
            ]
        },
        {
            "cell_type": "code",
            "execution_count": 41,
            "metadata": {},
            "outputs": [
                {
                    "data": {
                        "text/html": [
                            "<div>\n",
                            "<style scoped>\n",
                            "    .dataframe tbody tr th:only-of-type {\n",
                            "        vertical-align: middle;\n",
                            "    }\n",
                            "\n",
                            "    .dataframe tbody tr th {\n",
                            "        vertical-align: top;\n",
                            "    }\n",
                            "\n",
                            "    .dataframe thead th {\n",
                            "        text-align: right;\n",
                            "    }\n",
                            "</style>\n",
                            "<table border=\"1\" class=\"dataframe\">\n",
                            "  <thead>\n",
                            "    <tr style=\"text-align: right;\">\n",
                            "      <th></th>\n",
                            "      <th>name</th>\n",
                            "      <th>popularity</th>\n",
                            "      <th>duration</th>\n",
                            "    </tr>\n",
                            "  </thead>\n",
                            "  <tbody>\n",
                            "    <tr>\n",
                            "      <th>0</th>\n",
                            "      <td>Pull Me Under</td>\n",
                            "      <td>64.0</td>\n",
                            "      <td>8.232217</td>\n",
                            "    </tr>\n",
                            "    <tr>\n",
                            "      <th>1</th>\n",
                            "      <td>Another Day</td>\n",
                            "      <td>58.0</td>\n",
                            "      <td>4.385333</td>\n",
                            "    </tr>\n",
                            "    <tr>\n",
                            "      <th>2</th>\n",
                            "      <td>Panic Attack</td>\n",
                            "      <td>58.0</td>\n",
                            "      <td>8.217100</td>\n",
                            "    </tr>\n",
                            "  </tbody>\n",
                            "</table>\n",
                            "</div>"
                        ],
                        "text/plain": [
                            "            name  popularity  duration\n",
                            "0  Pull Me Under        64.0  8.232217\n",
                            "1    Another Day        58.0  4.385333\n",
                            "2   Panic Attack        58.0  8.217100"
                        ]
                    },
                    "execution_count": 41,
                    "metadata": {},
                    "output_type": "execute_result"
                }
            ],
            "source": [
                "#Sort by Popularity\n",
                "top_tracks_df = top_tracks_df.sort_values(by='popularity', ascending=False)\n",
                "\n",
                "#Get the Top 3\n",
                "top_tracks_df.head(3)"
            ]
        },
        {
            "cell_type": "code",
            "execution_count": 42,
            "metadata": {},
            "outputs": [
                {
                    "data": {
                        "image/png": "[encoded data removed]",
                        "text/plain": [
                            "<Figure size 640x480 with 1 Axes>"
                        ]
                    },
                    "metadata": {},
                    "output_type": "display_data"
                }
            ],
            "source": [
                "sns.scatterplot(x='popularity', y='duration', data=top_tracks_df)\n",
                "plt.title('Scatterplot of popularity vs duration')\n",
                "plt.show()"
            ]
        },
        {
            "cell_type": "code",
            "execution_count": null,
            "metadata": {},
            "outputs": [],
            "source": [
                "#No hay una relacion lineal o de ningún tipo que sea observable en el scatterplot, entre la duracion de la cancion y su popularidad."
            ]
        }
    ],
    "metadata": {
        "kernelspec": {
            "display_name": "Python 3.8.13 64-bit ('3.8.13')",
            "language": "python",
            "name": "python3"
        },
        "language_info": {
            "codemirror_mode": {
                "name": "ipython",
                "version": 3
            },
            "file_extension": ".py",
            "mimetype": "text/x-python",
            "name": "python",
            "nbconvert_exporter": "python",
            "pygments_lexer": "ipython3",
            "version": "3.11.4"
        },
        "orig_nbformat": 4,
        "vscode": {
            "interpreter": {
                "hash": "110cc1dee26208153f2972f08a2ad52b6a56238dc66d48e87fb757ef2996db56"
            }
        }
    },
    "nbformat": 4,
    "nbformat_minor": 2
}
